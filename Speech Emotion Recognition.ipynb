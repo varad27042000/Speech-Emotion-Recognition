{
 "cells": [
  {
   "cell_type": "code",
   "execution_count": 1,
   "metadata": {},
   "outputs": [
    {
     "name": "stdout",
     "output_type": "stream",
     "text": [
      "Requirement already satisfied: librosa in c:\\python\\python38\\lib\\site-packages (0.10.2.post1)\n",
      "Requirement already satisfied: soundfile in c:\\python\\python38\\lib\\site-packages (0.13.1)\n",
      "Requirement already satisfied: numpy in c:\\python\\python38\\lib\\site-packages (1.24.3)\n",
      "Requirement already satisfied: sklearn in c:\\python\\python38\\lib\\site-packages (0.0)\n",
      "Requirement already satisfied: matplotlib in c:\\python\\python38\\lib\\site-packages (3.3.2)\n",
      "Requirement already satisfied: seaborn in c:\\python\\python38\\lib\\site-packages (0.11.1)\n",
      "Requirement already satisfied: audioread>=2.1.9 in c:\\python\\python38\\lib\\site-packages (from librosa) (3.0.1)\n",
      "Requirement already satisfied: scipy>=1.2.0 in c:\\python\\python38\\lib\\site-packages (from librosa) (1.7.0)\n",
      "Requirement already satisfied: scikit-learn>=0.20.0 in c:\\python\\python38\\lib\\site-packages (from librosa) (0.24.2)\n",
      "Requirement already satisfied: joblib>=0.14 in c:\\python\\python38\\lib\\site-packages (from librosa) (1.0.1)\n",
      "Requirement already satisfied: decorator>=4.3.0 in c:\\python\\python38\\lib\\site-packages (from librosa) (4.4.2)\n",
      "Requirement already satisfied: numba>=0.51.0 in c:\\python\\python38\\lib\\site-packages (from librosa) (0.58.1)\n",
      "Requirement already satisfied: pooch>=1.1 in c:\\python\\python38\\lib\\site-packages (from librosa) (1.8.2)\n",
      "Requirement already satisfied: soxr>=0.3.2 in c:\\python\\python38\\lib\\site-packages (from librosa) (0.3.7)\n",
      "Requirement already satisfied: typing-extensions>=4.1.1 in c:\\python\\python38\\lib\\site-packages (from librosa) (4.12.2)\n",
      "Requirement already satisfied: lazy-loader>=0.1 in c:\\python\\python38\\lib\\site-packages (from librosa) (0.4)\n",
      "Requirement already satisfied: msgpack>=1.0 in c:\\python\\python38\\lib\\site-packages (from librosa) (1.1.0)\n",
      "Requirement already satisfied: cffi>=1.0 in c:\\python\\python38\\lib\\site-packages (from soundfile) (1.14.3)\n",
      "Requirement already satisfied: certifi>=2020.06.20 in c:\\python\\python38\\lib\\site-packages (from matplotlib) (2020.6.20)\n",
      "Requirement already satisfied: cycler>=0.10 in c:\\python\\python38\\lib\\site-packages (from matplotlib) (0.10.0)\n",
      "Requirement already satisfied: kiwisolver>=1.0.1 in c:\\python\\python38\\lib\\site-packages (from matplotlib) (1.2.0)\n",
      "Requirement already satisfied: pillow>=6.2.0 in c:\\python\\python38\\lib\\site-packages (from matplotlib) (7.2.0)\n",
      "Requirement already satisfied: pyparsing!=2.0.4,!=2.1.2,!=2.1.6,>=2.0.3 in c:\\python\\python38\\lib\\site-packages (from matplotlib) (2.4.7)\n",
      "Requirement already satisfied: python-dateutil>=2.1 in c:\\python\\python38\\lib\\site-packages (from matplotlib) (2.8.1)\n",
      "Requirement already satisfied: pandas>=0.23 in c:\\python\\python38\\lib\\site-packages (from seaborn) (1.2.3)\n",
      "Requirement already satisfied: pycparser in c:\\python\\python38\\lib\\site-packages (from cffi>=1.0->soundfile) (2.20)\n",
      "Requirement already satisfied: six in c:\\python\\python38\\lib\\site-packages (from cycler>=0.10->matplotlib) (1.15.0)\n",
      "Requirement already satisfied: packaging in c:\\python\\python38\\lib\\site-packages (from lazy-loader>=0.1->librosa) (20.4)\n",
      "Requirement already satisfied: llvmlite<0.42,>=0.41.0dev0 in c:\\python\\python38\\lib\\site-packages (from numba>=0.51.0->librosa) (0.41.1)\n",
      "Requirement already satisfied: importlib-metadata in c:\\python\\python38\\lib\\site-packages (from numba>=0.51.0->librosa) (8.5.0)\n",
      "Requirement already satisfied: pytz>=2017.3 in c:\\python\\python38\\lib\\site-packages (from pandas>=0.23->seaborn) (2021.1)\n",
      "Requirement already satisfied: platformdirs>=2.5.0 in c:\\python\\python38\\lib\\site-packages (from pooch>=1.1->librosa) (4.3.6)\n",
      "Requirement already satisfied: requests>=2.19.0 in c:\\python\\python38\\lib\\site-packages (from pooch>=1.1->librosa) (2.24.0)\n",
      "Requirement already satisfied: threadpoolctl>=2.0.0 in c:\\python\\python38\\lib\\site-packages (from scikit-learn>=0.20.0->librosa) (2.2.0)\n",
      "Collecting numpy\n",
      "  Downloading numpy-1.22.4-cp38-cp38-win_amd64.whl.metadata (2.1 kB)\n",
      "Requirement already satisfied: chardet<4,>=3.0.2 in c:\\python\\python38\\lib\\site-packages (from requests>=2.19.0->pooch>=1.1->librosa) (3.0.4)\n",
      "Requirement already satisfied: idna<3,>=2.5 in c:\\python\\python38\\lib\\site-packages (from requests>=2.19.0->pooch>=1.1->librosa) (2.10)\n",
      "Requirement already satisfied: urllib3!=1.25.0,!=1.25.1,<1.26,>=1.21.1 in c:\\python\\python38\\lib\\site-packages (from requests>=2.19.0->pooch>=1.1->librosa) (1.25.10)\n",
      "Requirement already satisfied: zipp>=3.20 in c:\\python\\python38\\lib\\site-packages (from importlib-metadata->numba>=0.51.0->librosa) (3.20.2)\n",
      "Downloading numpy-1.22.4-cp38-cp38-win_amd64.whl (14.8 MB)\n",
      "   ---------------------------------------- 14.8/14.8 MB 10.0 MB/s eta 0:00:00\n",
      "Installing collected packages: numpy\n",
      "  Attempting uninstall: numpy\n",
      "    Found existing installation: numpy 1.24.3\n",
      "    Uninstalling numpy-1.24.3:\n",
      "      Successfully uninstalled numpy-1.24.3\n",
      "Successfully installed numpy-1.22.4\n",
      "Note: you may need to restart the kernel to use updated packages.\n"
     ]
    }
   ],
   "source": [
    "pip install librosa soundfile numpy sklearn matplotlib seaborn\n"
   ]
  },
  {
   "cell_type": "code",
   "execution_count": 2,
   "metadata": {},
   "outputs": [
    {
     "name": "stdout",
     "output_type": "stream",
     "text": [
      "Requirement already satisfied: librosa in c:\\python\\python38\\lib\\site-packages (0.10.2.post1)\n",
      "Requirement already satisfied: soundfile in c:\\python\\python38\\lib\\site-packages (0.13.1)\n",
      "Requirement already satisfied: numpy in c:\\python\\python38\\lib\\site-packages (1.22.4)\n",
      "Requirement already satisfied: sklearn in c:\\python\\python38\\lib\\site-packages (0.0)\n",
      "Requirement already satisfied: matplotlib in c:\\python\\python38\\lib\\site-packages (3.3.2)\n",
      "Requirement already satisfied: seaborn in c:\\python\\python38\\lib\\site-packages (0.11.1)\n",
      "Requirement already satisfied: audioread>=2.1.9 in c:\\python\\python38\\lib\\site-packages (from librosa) (3.0.1)\n",
      "Requirement already satisfied: scipy>=1.2.0 in c:\\python\\python38\\lib\\site-packages (from librosa) (1.7.0)\n",
      "Requirement already satisfied: scikit-learn>=0.20.0 in c:\\python\\python38\\lib\\site-packages (from librosa) (0.24.2)\n",
      "Requirement already satisfied: joblib>=0.14 in c:\\python\\python38\\lib\\site-packages (from librosa) (1.0.1)\n",
      "Requirement already satisfied: decorator>=4.3.0 in c:\\python\\python38\\lib\\site-packages (from librosa) (4.4.2)\n",
      "Requirement already satisfied: numba>=0.51.0 in c:\\python\\python38\\lib\\site-packages (from librosa) (0.58.1)\n",
      "Requirement already satisfied: pooch>=1.1 in c:\\python\\python38\\lib\\site-packages (from librosa) (1.8.2)\n",
      "Requirement already satisfied: soxr>=0.3.2 in c:\\python\\python38\\lib\\site-packages (from librosa) (0.3.7)\n",
      "Requirement already satisfied: typing-extensions>=4.1.1 in c:\\python\\python38\\lib\\site-packages (from librosa) (4.12.2)\n",
      "Requirement already satisfied: lazy-loader>=0.1 in c:\\python\\python38\\lib\\site-packages (from librosa) (0.4)\n",
      "Requirement already satisfied: msgpack>=1.0 in c:\\python\\python38\\lib\\site-packages (from librosa) (1.1.0)\n",
      "Requirement already satisfied: cffi>=1.0 in c:\\python\\python38\\lib\\site-packages (from soundfile) (1.14.3)\n",
      "Requirement already satisfied: certifi>=2020.06.20 in c:\\python\\python38\\lib\\site-packages (from matplotlib) (2020.6.20)\n",
      "Requirement already satisfied: cycler>=0.10 in c:\\python\\python38\\lib\\site-packages (from matplotlib) (0.10.0)\n",
      "Requirement already satisfied: kiwisolver>=1.0.1 in c:\\python\\python38\\lib\\site-packages (from matplotlib) (1.2.0)\n",
      "Requirement already satisfied: pillow>=6.2.0 in c:\\python\\python38\\lib\\site-packages (from matplotlib) (7.2.0)\n",
      "Requirement already satisfied: pyparsing!=2.0.4,!=2.1.2,!=2.1.6,>=2.0.3 in c:\\python\\python38\\lib\\site-packages (from matplotlib) (2.4.7)\n",
      "Requirement already satisfied: python-dateutil>=2.1 in c:\\python\\python38\\lib\\site-packages (from matplotlib) (2.8.1)\n",
      "Requirement already satisfied: pandas>=0.23 in c:\\python\\python38\\lib\\site-packages (from seaborn) (1.2.3)\n",
      "Requirement already satisfied: pycparser in c:\\python\\python38\\lib\\site-packages (from cffi>=1.0->soundfile) (2.20)\n",
      "Requirement already satisfied: six in c:\\python\\python38\\lib\\site-packages (from cycler>=0.10->matplotlib) (1.15.0)\n",
      "Requirement already satisfied: packaging in c:\\python\\python38\\lib\\site-packages (from lazy-loader>=0.1->librosa) (20.4)\n",
      "Requirement already satisfied: llvmlite<0.42,>=0.41.0dev0 in c:\\python\\python38\\lib\\site-packages (from numba>=0.51.0->librosa) (0.41.1)\n",
      "Requirement already satisfied: importlib-metadata in c:\\python\\python38\\lib\\site-packages (from numba>=0.51.0->librosa) (8.5.0)\n",
      "Requirement already satisfied: pytz>=2017.3 in c:\\python\\python38\\lib\\site-packages (from pandas>=0.23->seaborn) (2021.1)\n",
      "Requirement already satisfied: platformdirs>=2.5.0 in c:\\python\\python38\\lib\\site-packages (from pooch>=1.1->librosa) (4.3.6)\n",
      "Requirement already satisfied: requests>=2.19.0 in c:\\python\\python38\\lib\\site-packages (from pooch>=1.1->librosa) (2.24.0)\n",
      "Requirement already satisfied: threadpoolctl>=2.0.0 in c:\\python\\python38\\lib\\site-packages (from scikit-learn>=0.20.0->librosa) (2.2.0)\n",
      "Requirement already satisfied: chardet<4,>=3.0.2 in c:\\python\\python38\\lib\\site-packages (from requests>=2.19.0->pooch>=1.1->librosa) (3.0.4)\n",
      "Requirement already satisfied: idna<3,>=2.5 in c:\\python\\python38\\lib\\site-packages (from requests>=2.19.0->pooch>=1.1->librosa) (2.10)\n",
      "Requirement already satisfied: urllib3!=1.25.0,!=1.25.1,<1.26,>=1.21.1 in c:\\python\\python38\\lib\\site-packages (from requests>=2.19.0->pooch>=1.1->librosa) (1.25.10)\n",
      "Requirement already satisfied: zipp>=3.20 in c:\\python\\python38\\lib\\site-packages (from importlib-metadata->numba>=0.51.0->librosa) (3.20.2)\n"
     ]
    }
   ],
   "source": [
    "!pip install librosa soundfile numpy sklearn matplotlib seaborn\n"
   ]
  },
  {
   "cell_type": "code",
   "execution_count": 3,
   "metadata": {},
   "outputs": [
    {
     "name": "stdout",
     "output_type": "stream",
     "text": [
      "C:\\Users\\srsha\\Speech Emotion Recognition\n"
     ]
    }
   ],
   "source": [
    "import os\n",
    "print(os.getcwd())  # Prints the current working directory\n",
    "\n"
   ]
  },
  {
   "cell_type": "code",
   "execution_count": 3,
   "metadata": {},
   "outputs": [],
   "source": [
    "import librosa\n",
    "import soundfile\n",
    "import os, glob, pickle\n",
    "import numpy as np\n",
    "from sklearn.model_selection import train_test_split\n",
    "from sklearn.neural_network import MLPClassifier\n",
    "from sklearn.metrics import accuracy_score"
   ]
  },
  {
   "cell_type": "code",
   "execution_count": 13,
   "metadata": {},
   "outputs": [],
   "source": [
    "import librosa\n",
    "import numpy as np\n",
    "\n",
    "def extract_feature(file_name, mfcc=True, chroma=True, mel=True):\n",
    "    X, sample_rate = librosa.load(file_name, sr=None)  # Load audio file\n",
    "    result = np.array([])\n",
    "\n",
    "    if mfcc:\n",
    "        mfccs = np.mean(librosa.feature.mfcc(y=X, sr=sample_rate, n_mfcc=40).T, axis=0)\n",
    "        result = np.hstack((result, mfccs))\n",
    "\n",
    "    if chroma:\n",
    "        stft = np.abs(librosa.stft(X))\n",
    "        chroma = np.mean(librosa.feature.chroma_stft(S=stft, sr=sample_rate).T, axis=0)\n",
    "        result = np.hstack((result, chroma))\n",
    "\n",
    "    if mel:\n",
    "        mel = np.mean(librosa.feature.melspectrogram(y=X, sr=sample_rate).T, axis=0)  # Fixed this line\n",
    "        result = np.hstack((result, mel))\n",
    "\n",
    "    return result\n"
   ]
  },
  {
   "cell_type": "code",
   "execution_count": 14,
   "metadata": {},
   "outputs": [],
   "source": [
    "#DataFlair - Emotions in the RAVDESS dataset\n",
    "emotions={\n",
    "  '01':'neutral',\n",
    "  '02':'calm',\n",
    "  '03':'happy',\n",
    "  '04':'sad',\n",
    "  '05':'angry',\n",
    "  '06':'fearful',\n",
    "  '07':'disgust',\n",
    "  '08':'surprised'\n",
    "}\n",
    "\n",
    "#DataFlair - Emotions to observe\n",
    "observed_emotions=['calm', 'happy', 'fearful', 'disgust']"
   ]
  },
  {
   "cell_type": "code",
   "execution_count": 15,
   "metadata": {},
   "outputs": [],
   "source": [
    "#DataFlair - Load the data and extract features for each sound file\n",
    "def load_data(test_size=0.2):\n",
    "    x,y=[],[]\n",
    "    \n",
    "    for file in glob.glob(\"C:\\\\Users\\\\srsha\\\\Speech Emotion Recognition\\\\Actor_*\\\\*.wav\"):\n",
    "        file_name=os.path.basename(file)\n",
    "        emotion=emotions[file_name.split(\"-\")[2]]\n",
    "        if emotion not in observed_emotions:\n",
    "            continue\n",
    "        feature=extract_feature(file, mfcc=True, chroma=True, mel=True)\n",
    "        x.append(feature)\n",
    "        y.append(emotion)\n",
    "    return train_test_split(np.array(x), y, test_size=test_size, random_state=9)"
   ]
  },
  {
   "cell_type": "code",
   "execution_count": 16,
   "metadata": {},
   "outputs": [],
   "source": [
    "#DataFlair - Split the dataset\n",
    "x_train,x_test,y_train,y_test=load_data(test_size=0.25)"
   ]
  },
  {
   "cell_type": "code",
   "execution_count": 17,
   "metadata": {},
   "outputs": [
    {
     "name": "stdout",
     "output_type": "stream",
     "text": [
      "(576, 192)\n"
     ]
    }
   ],
   "source": [
    "#DataFlair - Get the shape of the training and testing datasets\n",
    "print((x_train.shape[0], x_test.shape[0]))"
   ]
  },
  {
   "cell_type": "code",
   "execution_count": 18,
   "metadata": {},
   "outputs": [
    {
     "name": "stdout",
     "output_type": "stream",
     "text": [
      "Features extracted: 180\n"
     ]
    }
   ],
   "source": [
    "#DataFlair - Get the number of features extracted\n",
    "print(f'Features extracted: {x_train.shape[1]}')"
   ]
  },
  {
   "cell_type": "code",
   "execution_count": 19,
   "metadata": {},
   "outputs": [],
   "source": [
    "#DataFlair - Initialize the Multi Layer Perceptron Classifier\n",
    "model=MLPClassifier(alpha=0.01, batch_size=256, epsilon=1e-08, hidden_layer_sizes=(300,), learning_rate='adaptive', max_iter=500)"
   ]
  },
  {
   "cell_type": "code",
   "execution_count": 20,
   "metadata": {},
   "outputs": [
    {
     "data": {
      "text/plain": [
       "MLPClassifier(alpha=0.01, batch_size=256, hidden_layer_sizes=(300,),\n",
       "              learning_rate='adaptive', max_iter=500)"
      ]
     },
     "execution_count": 20,
     "metadata": {},
     "output_type": "execute_result"
    }
   ],
   "source": [
    "#DataFlair - Train the model\n",
    "model.fit(x_train,y_train)"
   ]
  },
  {
   "cell_type": "code",
   "execution_count": 24,
   "metadata": {},
   "outputs": [],
   "source": [
    "#DataFlair - Predict for the test set\n",
    "y_pred=model.predict(x_test)"
   ]
  },
  {
   "cell_type": "code",
   "execution_count": 22,
   "metadata": {},
   "outputs": [
    {
     "name": "stdout",
     "output_type": "stream",
     "text": [
      "Accuracy: 66.15%\n"
     ]
    }
   ],
   "source": [
    "#DataFlair - Calculate the accuracy of our model\n",
    "accuracy=accuracy_score(y_true=y_test, y_pred=y_pred)\n",
    "\n",
    "#DataFlair - Print the accuracy\n",
    "print(\"Accuracy: {:.2f}%\".format(accuracy*100))"
   ]
  },
  {
   "cell_type": "code",
   "execution_count": null,
   "metadata": {},
   "outputs": [],
   "source": []
  }
 ],
 "metadata": {
  "kernelspec": {
   "display_name": "Python 3",
   "language": "python",
   "name": "python3"
  },
  "language_info": {
   "codemirror_mode": {
    "name": "ipython",
    "version": 3
   },
   "file_extension": ".py",
   "mimetype": "text/x-python",
   "name": "python",
   "nbconvert_exporter": "python",
   "pygments_lexer": "ipython3",
   "version": "3.8.2"
  }
 },
 "nbformat": 4,
 "nbformat_minor": 4
}
